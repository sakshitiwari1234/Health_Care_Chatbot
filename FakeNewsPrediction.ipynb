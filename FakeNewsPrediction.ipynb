{
  "nbformat": 4,
  "nbformat_minor": 0,
  "metadata": {
    "colab": {
      "provenance": [],
      "collapsed_sections": [
        "v7kJ27s8SN_W"
      ],
      "toc_visible": true,
      "mount_file_id": "1cKGqDwCwI2mH7aTmjICJgZ6XGhneiCl0",
      "authorship_tag": "ABX9TyMzDW/ze/EztTsrMkb6gdMZ",
      "include_colab_link": true
    },
    "kernelspec": {
      "name": "python3",
      "display_name": "Python 3"
    },
    "language_info": {
      "name": "python"
    }
  },
  "cells": [
    {
      "cell_type": "markdown",
      "metadata": {
        "id": "view-in-github",
        "colab_type": "text"
      },
      "source": [
        "<a href=\"https://colab.research.google.com/github/sakshitiwari1234/Health_Care_Chatbot/blob/main/FakeNewsPrediction.ipynb\" target=\"_parent\"><img src=\"https://colab.research.google.com/assets/colab-badge.svg\" alt=\"Open In Colab\"/></a>"
      ]
    },
    {
      "cell_type": "markdown",
      "source": [
        "##Prediction Model."
      ],
      "metadata": {
        "id": "v7kJ27s8SN_W"
      }
    },
    {
      "cell_type": "markdown",
      "source": [
        "##FAKE NEWS PREDICTION WITH PYTHON"
      ],
      "metadata": {
        "id": "HbiGqzweSvkF"
      }
    },
    {
      "cell_type": "markdown",
      "source": [
        "# news data set\n",
        " -->\n",
        " Data preprocessing to convert the data into meaningful data which machine can understand\n",
        " -->\n",
        "  then we need to train the splitted data, --> after this we shall implelenmt the dataset into logistic regression model, and after this--> we have trained logistic regression model.\n",
        "   "
      ],
      "metadata": {
        "id": "vV8IZf-qTFIC"
      }
    },
    {
      "cell_type": "markdown",
      "source": [
        "About the dataset:\n",
        "1. in the dataset we have downloaded there is id\n",
        "2. title- the title of news article\n",
        "3. author - author of news article\n",
        "4. text - some text for the article, it could be incompelte.\n",
        "5. label - -label is to mark whether the news artcile is fake or real."
      ],
      "metadata": {
        "id": "SNaHQP60UsQw"
      }
    },
    {
      "cell_type": "markdown",
      "source": [
        "importing the dependencies"
      ],
      "metadata": {
        "id": "y_z_zrEwXDWc"
      }
    },
    {
      "cell_type": "code",
      "source": [
        "import numpy as np\n",
        "import pandas as pd\n",
        "import re\n",
        "from nltk.corpus import stopwords\n",
        "from nltk.stem.porter import PorterStemmer\n",
        "from sklearn.feature_extraction.text import TfidfVectorizer\n",
        "from sklearn.model_selection import train_test_split\n",
        "from sklearn.linear_model import LogisticRegression\n",
        "from sklearn.metrics import accuracy_score"
      ],
      "metadata": {
        "id": "gMiKP5_zXJH4"
      },
      "execution_count": null,
      "outputs": []
    },
    {
      "cell_type": "code",
      "source": [
        "import nltk\n",
        "nltk.download('stopwords')\n",
        "#print(stopwords.words('english'))\n"
      ],
      "metadata": {
        "id": "y17_v_-EXbed",
        "colab": {
          "base_uri": "https://localhost:8080/"
        },
        "outputId": "a5491201-c256-45d4-8219-45df3bc105b6"
      },
      "execution_count": null,
      "outputs": [
        {
          "output_type": "stream",
          "name": "stderr",
          "text": [
            "[nltk_data] Downloading package stopwords to /root/nltk_data...\n",
            "[nltk_data]   Unzipping corpora/stopwords.zip.\n"
          ]
        },
        {
          "output_type": "execute_result",
          "data": {
            "text/plain": [
              "True"
            ]
          },
          "metadata": {},
          "execution_count": 18
        }
      ]
    },
    {
      "cell_type": "code",
      "source": [
        "# i have printed all the stopwords here using imported and installled packages.\n",
        "from nltk.corpus import stopwords\n",
        "print(stopwords.words('english'))"
      ],
      "metadata": {
        "colab": {
          "base_uri": "https://localhost:8080/"
        },
        "id": "SBQXVwAZX_n7",
        "outputId": "493372ba-3a64-49a7-c180-3980febff827"
      },
      "execution_count": null,
      "outputs": [
        {
          "output_type": "stream",
          "name": "stdout",
          "text": [
            "['i', 'me', 'my', 'myself', 'we', 'our', 'ours', 'ourselves', 'you', \"you're\", \"you've\", \"you'll\", \"you'd\", 'your', 'yours', 'yourself', 'yourselves', 'he', 'him', 'his', 'himself', 'she', \"she's\", 'her', 'hers', 'herself', 'it', \"it's\", 'its', 'itself', 'they', 'them', 'their', 'theirs', 'themselves', 'what', 'which', 'who', 'whom', 'this', 'that', \"that'll\", 'these', 'those', 'am', 'is', 'are', 'was', 'were', 'be', 'been', 'being', 'have', 'has', 'had', 'having', 'do', 'does', 'did', 'doing', 'a', 'an', 'the', 'and', 'but', 'if', 'or', 'because', 'as', 'until', 'while', 'of', 'at', 'by', 'for', 'with', 'about', 'against', 'between', 'into', 'through', 'during', 'before', 'after', 'above', 'below', 'to', 'from', 'up', 'down', 'in', 'out', 'on', 'off', 'over', 'under', 'again', 'further', 'then', 'once', 'here', 'there', 'when', 'where', 'why', 'how', 'all', 'any', 'both', 'each', 'few', 'more', 'most', 'other', 'some', 'such', 'no', 'nor', 'not', 'only', 'own', 'same', 'so', 'than', 'too', 'very', 's', 't', 'can', 'will', 'just', 'don', \"don't\", 'should', \"should've\", 'now', 'd', 'll', 'm', 'o', 're', 've', 'y', 'ain', 'aren', \"aren't\", 'couldn', \"couldn't\", 'didn', \"didn't\", 'doesn', \"doesn't\", 'hadn', \"hadn't\", 'hasn', \"hasn't\", 'haven', \"haven't\", 'isn', \"isn't\", 'ma', 'mightn', \"mightn't\", 'mustn', \"mustn't\", 'needn', \"needn't\", 'shan', \"shan't\", 'shouldn', \"shouldn't\", 'wasn', \"wasn't\", 'weren', \"weren't\", 'won', \"won't\", 'wouldn', \"wouldn't\"]\n"
          ]
        }
      ]
    },
    {
      "cell_type": "markdown",
      "source": [
        "# Data preprocessing."
      ],
      "metadata": {
        "id": "3UN71gVl9J9k"
      }
    },
    {
      "cell_type": "code",
      "source": [
        "import pandas as pd\n",
        "news_dataset = pd.read_csv('/content/drive/MyDrive/My Space/train.csv')"
      ],
      "metadata": {
        "id": "9dx0hy5HVOJz"
      },
      "execution_count": null,
      "outputs": []
    },
    {
      "cell_type": "code",
      "source": [
        "news_dataset.shape\n",
        "\n",
        "# shape method is used to know the total number of rows and columns in our dataset."
      ],
      "metadata": {
        "colab": {
          "base_uri": "https://localhost:8080/"
        },
        "id": "jRLciaCHWbXI",
        "outputId": "19ce65ca-c685-43bf-d717-0423e8167e40"
      },
      "execution_count": null,
      "outputs": [
        {
          "output_type": "execute_result",
          "data": {
            "text/plain": [
              "(20800, 5)"
            ]
          },
          "metadata": {},
          "execution_count": 21
        }
      ]
    },
    {
      "cell_type": "code",
      "source": [
        "#printing first 5 rows\n",
        "news_dataset.head()\n",
        "\n",
        "# in my current dataset there are 5 columns specifying id, title author , text random and label which shows 1 for truth and 2 for false values."
      ],
      "metadata": {
        "colab": {
          "base_uri": "https://localhost:8080/",
          "height": 380
        },
        "id": "Jl1lUA3DWf0M",
        "outputId": "e46d8849-75a8-42e2-ed42-1a2ba21df040"
      },
      "execution_count": null,
      "outputs": [
        {
          "output_type": "execute_result",
          "data": {
            "text/plain": [
              "   id                                              title              author  \\\n",
              "0   0  House Dem Aide: We Didn’t Even See Comey’s Let...       Darrell Lucus   \n",
              "1   1  FLYNN: Hillary Clinton, Big Woman on Campus - ...     Daniel J. Flynn   \n",
              "2   2                  Why the Truth Might Get You Fired  Consortiumnews.com   \n",
              "3   3  15 Civilians Killed In Single US Airstrike Hav...     Jessica Purkiss   \n",
              "4   4  Iranian woman jailed for fictional unpublished...      Howard Portnoy   \n",
              "\n",
              "                                                text  label  \n",
              "0  House Dem Aide: We Didn’t Even See Comey’s Let...      1  \n",
              "1  Ever get the feeling your life circles the rou...      0  \n",
              "2  Why the Truth Might Get You Fired October 29, ...      1  \n",
              "3  Videos 15 Civilians Killed In Single US Airstr...      1  \n",
              "4  Print \\nAn Iranian woman has been sentenced to...      1  "
            ],
            "text/html": [
              "\n",
              "  <div id=\"df-afd86653-4fe9-4ee1-9d38-af07c647550d\" class=\"colab-df-container\">\n",
              "    <div>\n",
              "<style scoped>\n",
              "    .dataframe tbody tr th:only-of-type {\n",
              "        vertical-align: middle;\n",
              "    }\n",
              "\n",
              "    .dataframe tbody tr th {\n",
              "        vertical-align: top;\n",
              "    }\n",
              "\n",
              "    .dataframe thead th {\n",
              "        text-align: right;\n",
              "    }\n",
              "</style>\n",
              "<table border=\"1\" class=\"dataframe\">\n",
              "  <thead>\n",
              "    <tr style=\"text-align: right;\">\n",
              "      <th></th>\n",
              "      <th>id</th>\n",
              "      <th>title</th>\n",
              "      <th>author</th>\n",
              "      <th>text</th>\n",
              "      <th>label</th>\n",
              "    </tr>\n",
              "  </thead>\n",
              "  <tbody>\n",
              "    <tr>\n",
              "      <th>0</th>\n",
              "      <td>0</td>\n",
              "      <td>House Dem Aide: We Didn’t Even See Comey’s Let...</td>\n",
              "      <td>Darrell Lucus</td>\n",
              "      <td>House Dem Aide: We Didn’t Even See Comey’s Let...</td>\n",
              "      <td>1</td>\n",
              "    </tr>\n",
              "    <tr>\n",
              "      <th>1</th>\n",
              "      <td>1</td>\n",
              "      <td>FLYNN: Hillary Clinton, Big Woman on Campus - ...</td>\n",
              "      <td>Daniel J. Flynn</td>\n",
              "      <td>Ever get the feeling your life circles the rou...</td>\n",
              "      <td>0</td>\n",
              "    </tr>\n",
              "    <tr>\n",
              "      <th>2</th>\n",
              "      <td>2</td>\n",
              "      <td>Why the Truth Might Get You Fired</td>\n",
              "      <td>Consortiumnews.com</td>\n",
              "      <td>Why the Truth Might Get You Fired October 29, ...</td>\n",
              "      <td>1</td>\n",
              "    </tr>\n",
              "    <tr>\n",
              "      <th>3</th>\n",
              "      <td>3</td>\n",
              "      <td>15 Civilians Killed In Single US Airstrike Hav...</td>\n",
              "      <td>Jessica Purkiss</td>\n",
              "      <td>Videos 15 Civilians Killed In Single US Airstr...</td>\n",
              "      <td>1</td>\n",
              "    </tr>\n",
              "    <tr>\n",
              "      <th>4</th>\n",
              "      <td>4</td>\n",
              "      <td>Iranian woman jailed for fictional unpublished...</td>\n",
              "      <td>Howard Portnoy</td>\n",
              "      <td>Print \\nAn Iranian woman has been sentenced to...</td>\n",
              "      <td>1</td>\n",
              "    </tr>\n",
              "  </tbody>\n",
              "</table>\n",
              "</div>\n",
              "    <div class=\"colab-df-buttons\">\n",
              "\n",
              "  <div class=\"colab-df-container\">\n",
              "    <button class=\"colab-df-convert\" onclick=\"convertToInteractive('df-afd86653-4fe9-4ee1-9d38-af07c647550d')\"\n",
              "            title=\"Convert this dataframe to an interactive table.\"\n",
              "            style=\"display:none;\">\n",
              "\n",
              "  <svg xmlns=\"http://www.w3.org/2000/svg\" height=\"24px\" viewBox=\"0 -960 960 960\">\n",
              "    <path d=\"M120-120v-720h720v720H120Zm60-500h600v-160H180v160Zm220 220h160v-160H400v160Zm0 220h160v-160H400v160ZM180-400h160v-160H180v160Zm440 0h160v-160H620v160ZM180-180h160v-160H180v160Zm440 0h160v-160H620v160Z\"/>\n",
              "  </svg>\n",
              "    </button>\n",
              "\n",
              "  <style>\n",
              "    .colab-df-container {\n",
              "      display:flex;\n",
              "      gap: 12px;\n",
              "    }\n",
              "\n",
              "    .colab-df-convert {\n",
              "      background-color: #E8F0FE;\n",
              "      border: none;\n",
              "      border-radius: 50%;\n",
              "      cursor: pointer;\n",
              "      display: none;\n",
              "      fill: #1967D2;\n",
              "      height: 32px;\n",
              "      padding: 0 0 0 0;\n",
              "      width: 32px;\n",
              "    }\n",
              "\n",
              "    .colab-df-convert:hover {\n",
              "      background-color: #E2EBFA;\n",
              "      box-shadow: 0px 1px 2px rgba(60, 64, 67, 0.3), 0px 1px 3px 1px rgba(60, 64, 67, 0.15);\n",
              "      fill: #174EA6;\n",
              "    }\n",
              "\n",
              "    .colab-df-buttons div {\n",
              "      margin-bottom: 4px;\n",
              "    }\n",
              "\n",
              "    [theme=dark] .colab-df-convert {\n",
              "      background-color: #3B4455;\n",
              "      fill: #D2E3FC;\n",
              "    }\n",
              "\n",
              "    [theme=dark] .colab-df-convert:hover {\n",
              "      background-color: #434B5C;\n",
              "      box-shadow: 0px 1px 3px 1px rgba(0, 0, 0, 0.15);\n",
              "      filter: drop-shadow(0px 1px 2px rgba(0, 0, 0, 0.3));\n",
              "      fill: #FFFFFF;\n",
              "    }\n",
              "  </style>\n",
              "\n",
              "    <script>\n",
              "      const buttonEl =\n",
              "        document.querySelector('#df-afd86653-4fe9-4ee1-9d38-af07c647550d button.colab-df-convert');\n",
              "      buttonEl.style.display =\n",
              "        google.colab.kernel.accessAllowed ? 'block' : 'none';\n",
              "\n",
              "      async function convertToInteractive(key) {\n",
              "        const element = document.querySelector('#df-afd86653-4fe9-4ee1-9d38-af07c647550d');\n",
              "        const dataTable =\n",
              "          await google.colab.kernel.invokeFunction('convertToInteractive',\n",
              "                                                    [key], {});\n",
              "        if (!dataTable) return;\n",
              "\n",
              "        const docLinkHtml = 'Like what you see? Visit the ' +\n",
              "          '<a target=\"_blank\" href=https://colab.research.google.com/notebooks/data_table.ipynb>data table notebook</a>'\n",
              "          + ' to learn more about interactive tables.';\n",
              "        element.innerHTML = '';\n",
              "        dataTable['output_type'] = 'display_data';\n",
              "        await google.colab.output.renderOutput(dataTable, element);\n",
              "        const docLink = document.createElement('div');\n",
              "        docLink.innerHTML = docLinkHtml;\n",
              "        element.appendChild(docLink);\n",
              "      }\n",
              "    </script>\n",
              "  </div>\n",
              "\n",
              "\n",
              "<div id=\"df-a3cfb412-eaee-4d0a-a1e0-c18b84746d93\">\n",
              "  <button class=\"colab-df-quickchart\" onclick=\"quickchart('df-a3cfb412-eaee-4d0a-a1e0-c18b84746d93')\"\n",
              "            title=\"Suggest charts\"\n",
              "            style=\"display:none;\">\n",
              "\n",
              "<svg xmlns=\"http://www.w3.org/2000/svg\" height=\"24px\"viewBox=\"0 0 24 24\"\n",
              "     width=\"24px\">\n",
              "    <g>\n",
              "        <path d=\"M19 3H5c-1.1 0-2 .9-2 2v14c0 1.1.9 2 2 2h14c1.1 0 2-.9 2-2V5c0-1.1-.9-2-2-2zM9 17H7v-7h2v7zm4 0h-2V7h2v10zm4 0h-2v-4h2v4z\"/>\n",
              "    </g>\n",
              "</svg>\n",
              "  </button>\n",
              "\n",
              "<style>\n",
              "  .colab-df-quickchart {\n",
              "      --bg-color: #E8F0FE;\n",
              "      --fill-color: #1967D2;\n",
              "      --hover-bg-color: #E2EBFA;\n",
              "      --hover-fill-color: #174EA6;\n",
              "      --disabled-fill-color: #AAA;\n",
              "      --disabled-bg-color: #DDD;\n",
              "  }\n",
              "\n",
              "  [theme=dark] .colab-df-quickchart {\n",
              "      --bg-color: #3B4455;\n",
              "      --fill-color: #D2E3FC;\n",
              "      --hover-bg-color: #434B5C;\n",
              "      --hover-fill-color: #FFFFFF;\n",
              "      --disabled-bg-color: #3B4455;\n",
              "      --disabled-fill-color: #666;\n",
              "  }\n",
              "\n",
              "  .colab-df-quickchart {\n",
              "    background-color: var(--bg-color);\n",
              "    border: none;\n",
              "    border-radius: 50%;\n",
              "    cursor: pointer;\n",
              "    display: none;\n",
              "    fill: var(--fill-color);\n",
              "    height: 32px;\n",
              "    padding: 0;\n",
              "    width: 32px;\n",
              "  }\n",
              "\n",
              "  .colab-df-quickchart:hover {\n",
              "    background-color: var(--hover-bg-color);\n",
              "    box-shadow: 0 1px 2px rgba(60, 64, 67, 0.3), 0 1px 3px 1px rgba(60, 64, 67, 0.15);\n",
              "    fill: var(--button-hover-fill-color);\n",
              "  }\n",
              "\n",
              "  .colab-df-quickchart-complete:disabled,\n",
              "  .colab-df-quickchart-complete:disabled:hover {\n",
              "    background-color: var(--disabled-bg-color);\n",
              "    fill: var(--disabled-fill-color);\n",
              "    box-shadow: none;\n",
              "  }\n",
              "\n",
              "  .colab-df-spinner {\n",
              "    border: 2px solid var(--fill-color);\n",
              "    border-color: transparent;\n",
              "    border-bottom-color: var(--fill-color);\n",
              "    animation:\n",
              "      spin 1s steps(1) infinite;\n",
              "  }\n",
              "\n",
              "  @keyframes spin {\n",
              "    0% {\n",
              "      border-color: transparent;\n",
              "      border-bottom-color: var(--fill-color);\n",
              "      border-left-color: var(--fill-color);\n",
              "    }\n",
              "    20% {\n",
              "      border-color: transparent;\n",
              "      border-left-color: var(--fill-color);\n",
              "      border-top-color: var(--fill-color);\n",
              "    }\n",
              "    30% {\n",
              "      border-color: transparent;\n",
              "      border-left-color: var(--fill-color);\n",
              "      border-top-color: var(--fill-color);\n",
              "      border-right-color: var(--fill-color);\n",
              "    }\n",
              "    40% {\n",
              "      border-color: transparent;\n",
              "      border-right-color: var(--fill-color);\n",
              "      border-top-color: var(--fill-color);\n",
              "    }\n",
              "    60% {\n",
              "      border-color: transparent;\n",
              "      border-right-color: var(--fill-color);\n",
              "    }\n",
              "    80% {\n",
              "      border-color: transparent;\n",
              "      border-right-color: var(--fill-color);\n",
              "      border-bottom-color: var(--fill-color);\n",
              "    }\n",
              "    90% {\n",
              "      border-color: transparent;\n",
              "      border-bottom-color: var(--fill-color);\n",
              "    }\n",
              "  }\n",
              "</style>\n",
              "\n",
              "  <script>\n",
              "    async function quickchart(key) {\n",
              "      const quickchartButtonEl =\n",
              "        document.querySelector('#' + key + ' button');\n",
              "      quickchartButtonEl.disabled = true;  // To prevent multiple clicks.\n",
              "      quickchartButtonEl.classList.add('colab-df-spinner');\n",
              "      try {\n",
              "        const charts = await google.colab.kernel.invokeFunction(\n",
              "            'suggestCharts', [key], {});\n",
              "      } catch (error) {\n",
              "        console.error('Error during call to suggestCharts:', error);\n",
              "      }\n",
              "      quickchartButtonEl.classList.remove('colab-df-spinner');\n",
              "      quickchartButtonEl.classList.add('colab-df-quickchart-complete');\n",
              "    }\n",
              "    (() => {\n",
              "      let quickchartButtonEl =\n",
              "        document.querySelector('#df-a3cfb412-eaee-4d0a-a1e0-c18b84746d93 button');\n",
              "      quickchartButtonEl.style.display =\n",
              "        google.colab.kernel.accessAllowed ? 'block' : 'none';\n",
              "    })();\n",
              "  </script>\n",
              "</div>\n",
              "    </div>\n",
              "  </div>\n"
            ],
            "application/vnd.google.colaboratory.intrinsic+json": {
              "type": "dataframe",
              "summary": "{\n  \"name\": \"# in my current dataset there are 5 columns specifying id, title author , text random and label which shows 1 for truth and 2 for false values\",\n  \"rows\": 5,\n  \"fields\": [\n    {\n      \"column\": \"id\",\n      \"properties\": {\n        \"dtype\": \"number\",\n        \"std\": 1,\n        \"min\": 0,\n        \"max\": 4,\n        \"num_unique_values\": 5,\n        \"samples\": [\n          1,\n          4,\n          2\n        ],\n        \"semantic_type\": \"\",\n        \"description\": \"\"\n      }\n    },\n    {\n      \"column\": \"title\",\n      \"properties\": {\n        \"dtype\": \"string\",\n        \"num_unique_values\": 5,\n        \"samples\": [\n          \"FLYNN: Hillary Clinton, Big Woman on Campus - Breitbart\",\n          \"Iranian woman jailed for fictional unpublished story about woman stoned to death for adultery\",\n          \"Why the Truth Might Get You Fired\"\n        ],\n        \"semantic_type\": \"\",\n        \"description\": \"\"\n      }\n    },\n    {\n      \"column\": \"author\",\n      \"properties\": {\n        \"dtype\": \"string\",\n        \"num_unique_values\": 5,\n        \"samples\": [\n          \"Daniel J. Flynn\",\n          \"Howard Portnoy\",\n          \"Consortiumnews.com\"\n        ],\n        \"semantic_type\": \"\",\n        \"description\": \"\"\n      }\n    },\n    {\n      \"column\": \"text\",\n      \"properties\": {\n        \"dtype\": \"string\",\n        \"num_unique_values\": 5,\n        \"samples\": [\n          \"Ever get the feeling your life circles the roundabout rather than heads in a straight line toward the intended destination? [Hillary Clinton remains the big woman on campus in leafy, liberal Wellesley, Massachusetts. Everywhere else votes her most likely to don her inauguration dress for the remainder of her days the way Miss Havisham forever wore that wedding dress.  Speaking of Great Expectations, Hillary Rodham overflowed with them 48 years ago when she first addressed a Wellesley graduating class. The president of the college informed those gathered in 1969 that the students needed \\u201cno debate so far as I could ascertain as to who their spokesman was to be\\u201d (kind of the like the Democratic primaries in 2016 minus the   terms unknown then even at a Seven Sisters school). \\u201cI am very glad that Miss Adams made it clear that what I am speaking for today is all of us \\u2014  the 400 of us,\\u201d Miss Rodham told her classmates. After appointing herself Edger Bergen to the Charlie McCarthys and Mortimer Snerds in attendance, the    bespectacled in granny glasses (awarding her matronly wisdom \\u2014  or at least John Lennon wisdom) took issue with the previous speaker. Despite becoming the first   to win election to a seat in the U. S. Senate since Reconstruction, Edward Brooke came in for criticism for calling for \\u201cempathy\\u201d for the goals of protestors as he criticized tactics. Though Clinton in her senior thesis on Saul Alinsky lamented \\u201cBlack Power demagogues\\u201d and \\u201celitist arrogance and repressive intolerance\\u201d within the New Left, similar words coming out of a Republican necessitated a brief rebuttal. \\u201cTrust,\\u201d Rodham ironically observed in 1969, \\u201cthis is one word that when I asked the class at our rehearsal what it was they wanted me to say for them, everyone came up to me and said \\u2018Talk about trust, talk about the lack of trust both for us and the way we feel about others. Talk about the trust bust.\\u2019 What can you say about it? What can you say about a feeling that permeates a generation and that perhaps is not even understood by those who are distrusted?\\u201d The \\u201ctrust bust\\u201d certainly busted Clinton\\u2019s 2016 plans. She certainly did not even understand that people distrusted her. After Whitewater, Travelgate, the vast   conspiracy, Benghazi, and the missing emails, Clinton found herself the distrusted voice on Friday. There was a load of compromising on the road to the broadening of her political horizons. And distrust from the American people \\u2014  Trump edged her 48 percent to 38 percent on the question immediately prior to November\\u2019s election \\u2014  stood as a major reason for the closing of those horizons. Clinton described her vanquisher and his supporters as embracing a \\u201clie,\\u201d a \\u201ccon,\\u201d \\u201calternative facts,\\u201d and \\u201ca   assault on truth and reason. \\u201d She failed to explain why the American people chose his lies over her truth. \\u201cAs the history majors among you here today know all too well, when people in power invent their own facts and attack those who question them, it can mark the beginning of the end of a free society,\\u201d she offered. \\u201cThat is not hyperbole. \\u201d Like so many people to emerge from the 1960s, Hillary Clinton embarked upon a long, strange trip. From high school Goldwater Girl and Wellesley College Republican president to Democratic politician, Clinton drank in the times and the place that gave her a degree. More significantly, she went from idealist to cynic, as a comparison of her two Wellesley commencement addresses show. Way back when, she lamented that \\u201cfor too long our leaders have viewed politics as the art of the possible, and the challenge now is to practice politics as the art of making what appears to be impossible possible. \\u201d Now, as the big woman on campus but the odd woman out of the White House, she wonders how her current station is even possible. \\u201cWhy aren\\u2019t I 50 points ahead?\\u201d she asked in September. In May she asks why she isn\\u2019t president. The woman famously dubbed a \\u201ccongenital liar\\u201d by Bill Safire concludes that lies did her in \\u2014  theirs, mind you, not hers. Getting stood up on Election Day, like finding yourself the jilted bride on your wedding day, inspires dangerous delusions.\",\n          \"Print \\nAn Iranian woman has been sentenced to six years in prison after Iran\\u2019s Revolutionary Guard searched her home and found a notebook that contained a fictional story she\\u2019d written about a woman who was stoned to death, according to the Eurasia Review . \\nGolrokh Ebrahimi Iraee, 35, is the wife of political prisoner Arash Sadeghi, 36, who is serving a 19-year prison sentence for being a human rights activist, the publication reported. \\n\\u201cWhen the intelligence unit of the Revolutionary Guards came to arrest her husband, they raided their apartment \\u2013 without a warrant \\u2013 and found drafts of stories that Ebrahimi Iraee had written,\\u201d the article stated. \\n\\u201cOne of the confiscated drafts was a story about stoning women to death for adultery \\u2013 never published, never presented to anyone,\\u201d the article stated. \\u201cThe narrative followed the story of a protagonist that watched a movie about stoning of women under Islamic law for adultery.\",\n          \"Why the Truth Might Get You Fired October 29, 2016 \\nThe tension between intelligence analysts and political policymakers has always been between honest assessments and desired results, with the latter often overwhelming the former, as in the Iraq War, writes Lawrence Davidson. \\nBy Lawrence Davidson \\nFor those who might wonder why foreign policy makers repeatedly make bad choices, some insight might be drawn from the following analysis. The action here plays out in the United States, but the lessons are probably universal. \\nBack in the early spring of 2003, George W. Bush initiated the invasion of Iraq. One of his key public reasons for doing so was the claim that the country\\u2019s dictator, Saddam Hussein, was on the verge of developing nuclear weapons and was hiding other weapons of mass destruction. The real reason went beyond that charge and included a long-range plan for \\u201cregime change\\u201d in the Middle East. President George W. Bush and Vice President Dick Cheney receive an Oval Office briefing from CIA Director George Tenet. Also present is Chief of Staff Andy Card (on right). (White House photo) \\nFor our purposes, we will concentrate on the belief that Iraq was about to become a hostile nuclear power. Why did President Bush and his close associates accept this scenario so readily? \\nThe short answer is Bush wanted, indeed needed, to believe it as a rationale for invading Iraq. At first he had tried to connect Saddam Hussein to the 9/11 attacks on the U.S. Though he never gave up on that stratagem, the lack of evidence made it difficult to rally an American people, already fixated on Afghanistan, to support a war against Baghdad. \\nBut the nuclear weapons gambit proved more fruitful, not because there was any hard evidence for the charge, but because supposedly reliable witnesses, in the persons of exiled anti-Saddam Iraqis (many on the U.S. government\\u2019s payroll ), kept telling Bush and his advisers that the nuclear story was true. \\nWhat we had was a U.S. leadership cadre whose worldview literally demanded a mortally dangerous Iraq, and informants who, in order to precipitate the overthrow of Saddam, were willing to tell the tale of pending atomic weapons. The strong desire to believe the tale of a nuclear Iraq lowered the threshold for proof . Likewise, the repeated assertions by assumed dependable Iraqi sources underpinned a nationwide U.S. campaign generating both fear and war fever. \\nSo the U.S. and its allies insisted that the United Nations send in weapons inspectors to scour Iraq for evidence of a nuclear weapons program (as well as chemical and biological weapons). That the inspectors could find no convincing evidence only frustrated the Bush administration and soon forced its hand. \\nOn March 19, 2003, Bush launched the invasion of Iraq with the expectation was that, once in occupation of the country, U.S. inspectors would surely find evidence of those nukes (or at least stockpiles of chemical and biological weapons). They did not. Their Iraqi informants had systematically lied to them. \\nSocial and Behavioral Sciences to the Rescue? \\nThe various U.S. intelligence agencies were thoroughly shaken by this affair, and today, 13 years later, their directors and managers are still trying to sort it out \\u2013 specifically, how to tell when they are getting \\u201ctrue\\u201d intelligence and when they are being lied to. Or, as one intelligence worker has put it, we need \\u201c help to protect us against armies of snake oil salesmen. \\u201d To that end the CIA et al. are in the market for academic assistance. Ahmed Chalabi, head of the Iraqi National Congress, a key supplier of Iraqi defectors with bogus stories of hidden WMD. \\nA \\u201cpartnership\\u201d is being forged between the Office of the Director of National Intelligence (ODNI), which serves as the coordinating center for the sixteen independent U.S. intelligence agencies, and the National Academies of Sciences, Engineering and Medicine . The result of this collaboration will be a \\u201c permanent Intelligence Community Studies Board\\u201d to coordinate programs in \\u201csocial and behavioral science research [that] might strengthen national security .\\u201d \\nDespite this effort, it is almost certain that the \\u201csocial and behavioral sciences\\u201d cannot give the spy agencies what they want \\u2013 a way of detecting lies that is better than their present standard procedures of polygraph tests and interrogations. But even if they could, it might well make no difference, because the real problem is not to be found with the liars. It is to be found with the believers. \\nThe Believers \\nIt is simply not true, as the ODNI leaders seem to assert, that U.S. intelligence agency personnel cannot tell, more often than not, that they are being lied to. This is the case because there are thousands of middle-echelon intelligence workers, desk officers, and specialists who know something closely approaching the truth \\u2013 that is, they know pretty well what is going on in places like Afghanistan, Iraq, Syria, Libya, Israel, Palestine and elsewhere. Director of National Intelligence James Clapper (right) talks with President Barack Obama in the Oval Office, with John Brennan and other national security aides present. (Photo credit: Office of Director of National Intelligence) \\nTherefore, if someone feeds them \\u201csnake oil,\\u201d they usually know it. However, having an accurate grasp of things is often to no avail because their superiors \\u2013 those who got their appointments by accepting a pre-structured worldview \\u2013 have different criterion for what is \\u201ctrue\\u201d than do the analysts. \\nListen to Charles Gaukel, of the National Intelligence Council \\u2013 yet another organization that acts as a meeting ground for the 16 intelligence agencies. Referring to the search for a way to avoid getting taken in by lies, Gaukel has declared, \\u201c We\\u2019re looking for truth. But we\\u2019re particularly looking for truth that works. \\u201d Now what might that mean? \\nI can certainly tell you what it means historically. It means that for the power brokers, \\u201ctruth\\u201d must match up, fit with, their worldview \\u2013 their political and ideological precepts. If it does not fit, it does not \\u201cwork.\\u201d So the intelligence specialists who send their usually accurate assessments up the line to the policy makers often hit a roadblock caused by \\u201cgroup think,\\u201d ideological blinkers, and a \\u201cwe know better\\u201d attitude. \\nOn the other hand, as long as what you\\u2019re selling the leadership matches up with what they want to believe, you can peddle them anything: imaginary Iraqi nukes, Israel as a Western-style democracy, Saudi Arabia as an indispensable ally, Libya as a liberated country, Bashar al-Assad as the real roadblock to peace in Syria, the Strategic Defense Initiative (SDI) aka Star Wars, a world that is getting colder and not warmer, American exceptionalism in all its glory \\u2013 the list is almost endless. \\nWhat does this sad tale tell us? If you want to spend millions of dollars on social and behavioral science research to improve the assessment and use of intelligence, forget about the liars. What you want to look for is an antidote to the narrow-mindedness of the believers \\u2013 the policymakers who seem not to be able to rise above the ideological presumptions of their class \\u2013 presumptions that underpin their self-confidence as they lead us all down slippery slopes. \\nIt has happened this way so often, and in so many places, that it is the source of Shakespeare\\u2019s determination that \\u201cwhat is past, is prelude.\\u201d Our elites play out our destinies as if they have no free will \\u2013 no capacity to break with structured ways of seeing. Yet the middle-echelon specialists keep sending their relatively accurate assessments up the ladder of power. Hope springs eternal.\"\n        ],\n        \"semantic_type\": \"\",\n        \"description\": \"\"\n      }\n    },\n    {\n      \"column\": \"label\",\n      \"properties\": {\n        \"dtype\": \"number\",\n        \"std\": 0,\n        \"min\": 0,\n        \"max\": 1,\n        \"num_unique_values\": 2,\n        \"samples\": [\n          0,\n          1\n        ],\n        \"semantic_type\": \"\",\n        \"description\": \"\"\n      }\n    }\n  ]\n}"
            }
          },
          "metadata": {},
          "execution_count": 22
        }
      ]
    },
    {
      "cell_type": "code",
      "source": [
        "# if there is any missing value or not.\n",
        "news_dataset.isnull().sum()"
      ],
      "metadata": {
        "colab": {
          "base_uri": "https://localhost:8080/"
        },
        "id": "CWIuDXkXXgxl",
        "outputId": "f3ada158-617e-4c34-8488-9d329ecf1e03"
      },
      "execution_count": null,
      "outputs": [
        {
          "output_type": "execute_result",
          "data": {
            "text/plain": [
              "id           0\n",
              "title      558\n",
              "author    1957\n",
              "text        39\n",
              "label        0\n",
              "dtype: int64"
            ]
          },
          "metadata": {},
          "execution_count": 23
        }
      ]
    },
    {
      "cell_type": "code",
      "source": [
        "# replacing all the null values with some empty string\n",
        "news_dataset = news_dataset.fillna('')"
      ],
      "metadata": {
        "id": "FHKLO0veZbYe"
      },
      "execution_count": null,
      "outputs": []
    },
    {
      "cell_type": "code",
      "source": [
        "news_dataset.isnull().sum()"
      ],
      "metadata": {
        "colab": {
          "base_uri": "https://localhost:8080/"
        },
        "id": "eik7Wg0yaGul",
        "outputId": "5a02bae3-3db7-41a2-bed6-54adc1780653"
      },
      "execution_count": null,
      "outputs": [
        {
          "output_type": "execute_result",
          "data": {
            "text/plain": [
              "id        0\n",
              "title     0\n",
              "author    0\n",
              "text      0\n",
              "label     0\n",
              "dtype: int64"
            ]
          },
          "metadata": {},
          "execution_count": 25
        }
      ]
    },
    {
      "cell_type": "code",
      "source": [
        "# instead of using the whole dataset , i am merging the author name of news title together in one coumn name content.\n",
        "news_dataset['content'] = news_dataset['author'] + news_dataset['title']"
      ],
      "metadata": {
        "id": "lEZaFi7UaQ0d"
      },
      "execution_count": null,
      "outputs": []
    },
    {
      "cell_type": "code",
      "source": [
        "print(news_dataset['content'])"
      ],
      "metadata": {
        "colab": {
          "base_uri": "https://localhost:8080/"
        },
        "id": "KZiSSJMwbVG3",
        "outputId": "7fe51932-e49a-4168-fbb4-6e8766df7bd7"
      },
      "execution_count": null,
      "outputs": [
        {
          "output_type": "stream",
          "name": "stdout",
          "text": [
            "0        Darrell LucusHouse Dem Aide: We Didn’t Even Se...\n",
            "1        Daniel J. FlynnFLYNN: Hillary Clinton, Big Wom...\n",
            "2        Consortiumnews.comWhy the Truth Might Get You ...\n",
            "3        Jessica Purkiss15 Civilians Killed In Single U...\n",
            "4        Howard PortnoyIranian woman jailed for fiction...\n",
            "                               ...                        \n",
            "20795    Jerome HudsonRapper T.I.: Trump a ’Poster Chil...\n",
            "20796    Benjamin HoffmanN.F.L. Playoffs: Schedule, Mat...\n",
            "20797    Michael J. de la Merced and Rachel AbramsMacy’...\n",
            "20798    Alex AnsaryNATO, Russia To Hold Parallel Exerc...\n",
            "20799               David SwansonWhat Keeps the F-35 Alive\n",
            "Name: content, Length: 20800, dtype: object\n"
          ]
        }
      ]
    },
    {
      "cell_type": "code",
      "source": [
        "#now separating the data content and label column.\n",
        "X = news_dataset.drop(columns= 'label', axis = 1)\n",
        "Y  = news_dataset['label']"
      ],
      "metadata": {
        "id": "FMjbHcYXbc1K"
      },
      "execution_count": null,
      "outputs": []
    },
    {
      "cell_type": "code",
      "source": [
        "print(X)\n",
        "print(Y)"
      ],
      "metadata": {
        "colab": {
          "base_uri": "https://localhost:8080/"
        },
        "id": "cIaIn-A_cMnU",
        "outputId": "06a31698-3022-40c6-9a6b-2df21566585e"
      },
      "execution_count": null,
      "outputs": [
        {
          "output_type": "stream",
          "name": "stdout",
          "text": [
            "          id                                              title  \\\n",
            "0          0  House Dem Aide: We Didn’t Even See Comey’s Let...   \n",
            "1          1  FLYNN: Hillary Clinton, Big Woman on Campus - ...   \n",
            "2          2                  Why the Truth Might Get You Fired   \n",
            "3          3  15 Civilians Killed In Single US Airstrike Hav...   \n",
            "4          4  Iranian woman jailed for fictional unpublished...   \n",
            "...      ...                                                ...   \n",
            "20795  20795  Rapper T.I.: Trump a ’Poster Child For White S...   \n",
            "20796  20796  N.F.L. Playoffs: Schedule, Matchups and Odds -...   \n",
            "20797  20797  Macy’s Is Said to Receive Takeover Approach by...   \n",
            "20798  20798  NATO, Russia To Hold Parallel Exercises In Bal...   \n",
            "20799  20799                          What Keeps the F-35 Alive   \n",
            "\n",
            "                                          author  \\\n",
            "0                                  Darrell Lucus   \n",
            "1                                Daniel J. Flynn   \n",
            "2                             Consortiumnews.com   \n",
            "3                                Jessica Purkiss   \n",
            "4                                 Howard Portnoy   \n",
            "...                                          ...   \n",
            "20795                              Jerome Hudson   \n",
            "20796                           Benjamin Hoffman   \n",
            "20797  Michael J. de la Merced and Rachel Abrams   \n",
            "20798                                Alex Ansary   \n",
            "20799                              David Swanson   \n",
            "\n",
            "                                                    text  \\\n",
            "0      House Dem Aide: We Didn’t Even See Comey’s Let...   \n",
            "1      Ever get the feeling your life circles the rou...   \n",
            "2      Why the Truth Might Get You Fired October 29, ...   \n",
            "3      Videos 15 Civilians Killed In Single US Airstr...   \n",
            "4      Print \\nAn Iranian woman has been sentenced to...   \n",
            "...                                                  ...   \n",
            "20795  Rapper T. I. unloaded on black celebrities who...   \n",
            "20796  When the Green Bay Packers lost to the Washing...   \n",
            "20797  The Macy’s of today grew from the union of sev...   \n",
            "20798  NATO, Russia To Hold Parallel Exercises In Bal...   \n",
            "20799    David Swanson is an author, activist, journa...   \n",
            "\n",
            "                                                 content  \n",
            "0      Darrell LucusHouse Dem Aide: We Didn’t Even Se...  \n",
            "1      Daniel J. FlynnFLYNN: Hillary Clinton, Big Wom...  \n",
            "2      Consortiumnews.comWhy the Truth Might Get You ...  \n",
            "3      Jessica Purkiss15 Civilians Killed In Single U...  \n",
            "4      Howard PortnoyIranian woman jailed for fiction...  \n",
            "...                                                  ...  \n",
            "20795  Jerome HudsonRapper T.I.: Trump a ’Poster Chil...  \n",
            "20796  Benjamin HoffmanN.F.L. Playoffs: Schedule, Mat...  \n",
            "20797  Michael J. de la Merced and Rachel AbramsMacy’...  \n",
            "20798  Alex AnsaryNATO, Russia To Hold Parallel Exerc...  \n",
            "20799             David SwansonWhat Keeps the F-35 Alive  \n",
            "\n",
            "[20800 rows x 5 columns]\n",
            "0        1\n",
            "1        0\n",
            "2        1\n",
            "3        1\n",
            "4        1\n",
            "        ..\n",
            "20795    0\n",
            "20796    0\n",
            "20797    0\n",
            "20798    1\n",
            "20799    1\n",
            "Name: label, Length: 20800, dtype: int64\n"
          ]
        }
      ]
    },
    {
      "cell_type": "markdown",
      "source": [
        "Stemming procedure\n",
        "\n",
        "stemming is the process of removing word or converting any word to its root word or we can say that to remove prefix and suffix from word.\n",
        "\n",
        "example - actor, actress -> act."
      ],
      "metadata": {
        "id": "f1IygRoFcdwx"
      }
    },
    {
      "cell_type": "code",
      "source": [
        "from nltk.stem.porter import PorterStemmer"
      ],
      "metadata": {
        "id": "HorLZusucQOB"
      },
      "execution_count": null,
      "outputs": []
    },
    {
      "cell_type": "code",
      "source": [
        "print('hi')"
      ],
      "metadata": {
        "id": "V8Ex8y34Lmg4",
        "colab": {
          "base_uri": "https://localhost:8080/"
        },
        "outputId": "2202bd82-b7a7-4485-b085-00ef61be71b7"
      },
      "execution_count": null,
      "outputs": [
        {
          "output_type": "stream",
          "name": "stdout",
          "text": [
            "hi\n"
          ]
        }
      ]
    },
    {
      "cell_type": "code",
      "source": [
        "port_stem = PorterStemmer()"
      ],
      "metadata": {
        "id": "nRMCqhkFM_2B"
      },
      "execution_count": null,
      "outputs": []
    },
    {
      "cell_type": "code",
      "source": [
        "def stemming (content):\n",
        "  steemed_content = re.sub('[^a-zA-z]', ' ', content)\n",
        "  steemed_content = steemed_content.lower()\n",
        "  steemed_content = steemed_content.split()\n",
        "  steemed_content = [port_stem.stem(word) for word in steemed_content if not word in stopwords.words('english')]\n",
        "  steemed_content = ' '.join(steemed_content)\n",
        "  return steemed_content\n"
      ],
      "metadata": {
        "id": "oywaseZDNdTe"
      },
      "execution_count": null,
      "outputs": []
    },
    {
      "cell_type": "code",
      "source": [
        "news_dataset['content'] = news_dataset['content'].apply(stemming)\n",
        "\n",
        "\n",
        "# till here i have converted al the messy text words including uppercase and symbols etc. into lowercase and removed the symbols etc."
      ],
      "metadata": {
        "id": "kt9t9GukOs56"
      },
      "execution_count": null,
      "outputs": []
    },
    {
      "cell_type": "code",
      "source": [
        "print(news_dataset['content'])\n",
        "\n",
        "#all the puntuations and symbols are removed by stemming process."
      ],
      "metadata": {
        "id": "2uPx1wjbR2A1",
        "colab": {
          "base_uri": "https://localhost:8080/"
        },
        "outputId": "a85f4160-6b6d-46d3-9120-c7f3dfbf668b"
      },
      "execution_count": null,
      "outputs": [
        {
          "output_type": "stream",
          "name": "stdout",
          "text": [
            "0        darrel lucushous dem aid even see comey letter...\n",
            "1        daniel j flynnflynn hillari clinton big woman ...\n",
            "2                consortiumnew comwhi truth might get fire\n",
            "3        jessica purkiss civilian kill singl us airstri...\n",
            "4        howard portnoyiranian woman jail fiction unpub...\n",
            "                               ...                        \n",
            "20795    jerom hudsonrapp trump poster child white supr...\n",
            "20796    benjamin hoffmann f l playoff schedul matchup ...\n",
            "20797    michael j de la merc rachel abramsmaci said re...\n",
            "20798    alex ansarynato russia hold parallel exercis b...\n",
            "20799                        david swansonwhat keep f aliv\n",
            "Name: content, Length: 20800, dtype: object\n"
          ]
        }
      ]
    },
    {
      "cell_type": "code",
      "source": [
        "# now separating the data and label accordingly for better recognition process.\n",
        "X = news_dataset['content'].values\n",
        "Y  = news_dataset['label'].values\n"
      ],
      "metadata": {
        "id": "cgJ_oi9aTsi0"
      },
      "execution_count": null,
      "outputs": []
    },
    {
      "cell_type": "code",
      "source": [
        "print(X)"
      ],
      "metadata": {
        "colab": {
          "base_uri": "https://localhost:8080/"
        },
        "id": "rGMdqyH0Ym95",
        "outputId": "0bf1d4ea-4c5e-4912-f513-c9fc8444e60a"
      },
      "execution_count": null,
      "outputs": [
        {
          "output_type": "stream",
          "name": "stdout",
          "text": [
            "  (0, 26155)\t0.28088379401596425\n",
            "  (0, 22548)\t0.2552336018069161\n",
            "  (0, 14899)\t0.43006226759639316\n",
            "  (0, 14439)\t0.29177259684200296\n",
            "  (0, 12674)\t0.24619727512767195\n",
            "  (0, 7942)\t0.23133661742488731\n",
            "  (0, 6210)\t0.2839932825877813\n",
            "  (0, 5907)\t0.35488202138141456\n",
            "  (0, 4952)\t0.2472595823572816\n",
            "  (0, 4163)\t0.3625320323150658\n",
            "  (0, 546)\t0.2694167078545385\n",
            "  (1, 27772)\t0.37204408227449065\n",
            "  (1, 11215)\t0.2434639969074374\n",
            "  (1, 8686)\t0.5300315426405939\n",
            "  (1, 5854)\t0.3206218375341294\n",
            "  (1, 4716)\t0.23523739119536424\n",
            "  (1, 3812)\t0.44601381123255807\n",
            "  (1, 3234)\t0.18800278047529806\n",
            "  (1, 2576)\t0.35911932371235855\n",
            "  (2, 26050)\t0.3665032495181434\n",
            "  (2, 16232)\t0.43295215406038445\n",
            "  (2, 9366)\t0.30743020569262086\n",
            "  (2, 8481)\t0.3411947414020896\n",
            "  (2, 5181)\t0.40440534260277944\n",
            "  (2, 5066)\t0.5511414848555652\n",
            "  :\t:\n",
            "  (20797, 25593)\t0.08234347981192172\n",
            "  (20797, 25137)\t0.3125002447493035\n",
            "  (20797, 21913)\t0.2494515865666979\n",
            "  (20797, 20616)\t0.2734270447609076\n",
            "  (20797, 20332)\t0.25042469546773877\n",
            "  (20797, 17373)\t0.08104362479383843\n",
            "  (20797, 16187)\t0.17875228080871305\n",
            "  (20797, 16090)\t0.3242703661541431\n",
            "  (20797, 13994)\t0.22800931704455404\n",
            "  (20797, 11593)\t0.29796600751883373\n",
            "  (20797, 6025)\t0.21289625603896975\n",
            "  (20797, 2214)\t0.3363554202191793\n",
            "  (20797, 1210)\t0.3077504076403579\n",
            "  (20797, 73)\t0.3889641374897982\n",
            "  (20798, 21765)\t0.2284042880065583\n",
            "  (20798, 18615)\t0.43981843518920394\n",
            "  (20798, 11335)\t0.3219420705942853\n",
            "  (20798, 8013)\t0.40266358130888547\n",
            "  (20798, 1879)\t0.43981843518920394\n",
            "  (20798, 1044)\t0.4638903157542853\n",
            "  (20798, 664)\t0.2827933658592677\n",
            "  (20799, 24967)\t0.6713314187498636\n",
            "  (20799, 13220)\t0.4138037375613909\n",
            "  (20799, 5956)\t0.345590335823275\n",
            "  (20799, 699)\t0.5085743925573473\n"
          ]
        }
      ]
    },
    {
      "cell_type": "code",
      "source": [
        "print(Y)"
      ],
      "metadata": {
        "colab": {
          "base_uri": "https://localhost:8080/"
        },
        "id": "Huiqs2UIY1sq",
        "outputId": "a481b49b-702b-42a5-bc52-ccc641f221ef"
      },
      "execution_count": null,
      "outputs": [
        {
          "output_type": "stream",
          "name": "stdout",
          "text": [
            "[1 0 1 ... 0 1 1]\n"
          ]
        }
      ]
    },
    {
      "cell_type": "code",
      "source": [
        "Y.shape"
      ],
      "metadata": {
        "colab": {
          "base_uri": "https://localhost:8080/"
        },
        "id": "Z68GOl5GY88-",
        "outputId": "f1e7240f-f0e9-4cd3-97c0-39b138661dea"
      },
      "execution_count": null,
      "outputs": [
        {
          "output_type": "execute_result",
          "data": {
            "text/plain": [
              "(20800,)"
            ]
          },
          "metadata": {},
          "execution_count": 43
        }
      ]
    },
    {
      "cell_type": "code",
      "source": [
        "#  data preprocesing part has been done , but for now we have to convert the whole data into some meaninful data so that the computer caun understand it.\n",
        "\n",
        "# for this purpose we shall be using the vectorization method.\n",
        "\n",
        "# converting the textual data into numerical data.\n",
        "vectorizer = TfidfVectorizer()\n",
        "# vectorizer.fit(X)\n",
        "\n",
        "# X = vectorizer.transform(X)"
      ],
      "metadata": {
        "id": "Jex7yJFEY_5X"
      },
      "execution_count": 84,
      "outputs": []
    },
    {
      "cell_type": "code",
      "source": [
        "print(X)"
      ],
      "metadata": {
        "colab": {
          "base_uri": "https://localhost:8080/"
        },
        "id": "lNHAdpcmaw8H",
        "outputId": "d27711fd-5e4f-4836-d8db-119e11c72d5f"
      },
      "execution_count": null,
      "outputs": [
        {
          "output_type": "stream",
          "name": "stdout",
          "text": [
            "  (0, 26155)\t0.28088379401596425\n",
            "  (0, 22548)\t0.2552336018069161\n",
            "  (0, 14899)\t0.43006226759639316\n",
            "  (0, 14439)\t0.29177259684200296\n",
            "  (0, 12674)\t0.24619727512767195\n",
            "  (0, 7942)\t0.23133661742488731\n",
            "  (0, 6210)\t0.2839932825877813\n",
            "  (0, 5907)\t0.35488202138141456\n",
            "  (0, 4952)\t0.2472595823572816\n",
            "  (0, 4163)\t0.3625320323150658\n",
            "  (0, 546)\t0.2694167078545385\n",
            "  (1, 27772)\t0.37204408227449065\n",
            "  (1, 11215)\t0.2434639969074374\n",
            "  (1, 8686)\t0.5300315426405939\n",
            "  (1, 5854)\t0.3206218375341294\n",
            "  (1, 4716)\t0.23523739119536424\n",
            "  (1, 3812)\t0.44601381123255807\n",
            "  (1, 3234)\t0.18800278047529806\n",
            "  (1, 2576)\t0.35911932371235855\n",
            "  (2, 26050)\t0.3665032495181434\n",
            "  (2, 16232)\t0.43295215406038445\n",
            "  (2, 9366)\t0.30743020569262086\n",
            "  (2, 8481)\t0.3411947414020896\n",
            "  (2, 5181)\t0.40440534260277944\n",
            "  (2, 5066)\t0.5511414848555652\n",
            "  :\t:\n",
            "  (20797, 25593)\t0.08234347981192172\n",
            "  (20797, 25137)\t0.3125002447493035\n",
            "  (20797, 21913)\t0.2494515865666979\n",
            "  (20797, 20616)\t0.2734270447609076\n",
            "  (20797, 20332)\t0.25042469546773877\n",
            "  (20797, 17373)\t0.08104362479383843\n",
            "  (20797, 16187)\t0.17875228080871305\n",
            "  (20797, 16090)\t0.3242703661541431\n",
            "  (20797, 13994)\t0.22800931704455404\n",
            "  (20797, 11593)\t0.29796600751883373\n",
            "  (20797, 6025)\t0.21289625603896975\n",
            "  (20797, 2214)\t0.3363554202191793\n",
            "  (20797, 1210)\t0.3077504076403579\n",
            "  (20797, 73)\t0.3889641374897982\n",
            "  (20798, 21765)\t0.2284042880065583\n",
            "  (20798, 18615)\t0.43981843518920394\n",
            "  (20798, 11335)\t0.3219420705942853\n",
            "  (20798, 8013)\t0.40266358130888547\n",
            "  (20798, 1879)\t0.43981843518920394\n",
            "  (20798, 1044)\t0.4638903157542853\n",
            "  (20798, 664)\t0.2827933658592677\n",
            "  (20799, 24967)\t0.6713314187498636\n",
            "  (20799, 13220)\t0.4138037375613909\n",
            "  (20799, 5956)\t0.345590335823275\n",
            "  (20799, 699)\t0.5085743925573473\n"
          ]
        }
      ]
    },
    {
      "cell_type": "code",
      "source": [
        "# i got some error while converting the textual data into numbers, though on printing the data of x is showing correct converted o moving forward\n",
        "\n",
        "\n",
        "# splitting the ddata into training and test data.\n",
        "X_train, X_test, Y_train, Y_test = train_test_split(X,Y, test_size= 0.2, stratify = Y, random_state = 2)\n",
        "#random state means we both will get the splitted data into same format.\n",
        "\n"
      ],
      "metadata": {
        "id": "nt0c3I6PesK-"
      },
      "execution_count": null,
      "outputs": []
    },
    {
      "cell_type": "markdown",
      "source": [
        "Training and Splitting the model into train and test dataset."
      ],
      "metadata": {
        "id": "Z71-xHme9egt"
      }
    },
    {
      "cell_type": "markdown",
      "source": [
        "Trainng the model: logisitic regresion.\n",
        "\n",
        "\n",
        "in logsitc regreion model when we plot the x and y values on plot , we get a sigmoid curve as lineant S. and formula of  logisitic regresssion is- Y = 1/1+epower-z.  \n",
        "\n"
      ],
      "metadata": {
        "id": "sZAkUL0XiA_N"
      }
    },
    {
      "cell_type": "markdown",
      "source": [
        "in this what happens that if if the value croses the threshold value above 1 is consisered and if it is below the threshold value it is considered false. i.e 0."
      ],
      "metadata": {
        "id": "GI6R8-d4uSpZ"
      }
    },
    {
      "cell_type": "markdown",
      "source": [
        "x = input features.\n",
        "y = prediction probability.\n",
        "w = weighs.\n",
        "b = biases.\n",
        "biases is bascially the intercepts.\n"
      ],
      "metadata": {
        "id": "dSn9CTltuxG3"
      }
    },
    {
      "cell_type": "code",
      "source": [
        "model = LogisticRegression()"
      ],
      "metadata": {
        "id": "BUof7MsNhUUk"
      },
      "execution_count": 63,
      "outputs": []
    },
    {
      "cell_type": "code",
      "source": [
        "#now we need to trian our model.\n",
        "\n",
        "model.fit(X_train, Y_train)"
      ],
      "metadata": {
        "colab": {
          "base_uri": "https://localhost:8080/",
          "height": 75
        },
        "id": "uchtOm6kvSpR",
        "outputId": "55ef95a5-dddb-467b-f596-f84cc2203f73"
      },
      "execution_count": 64,
      "outputs": [
        {
          "output_type": "execute_result",
          "data": {
            "text/plain": [
              "LogisticRegression()"
            ],
            "text/html": [
              "<style>#sk-container-id-2 {color: black;background-color: white;}#sk-container-id-2 pre{padding: 0;}#sk-container-id-2 div.sk-toggleable {background-color: white;}#sk-container-id-2 label.sk-toggleable__label {cursor: pointer;display: block;width: 100%;margin-bottom: 0;padding: 0.3em;box-sizing: border-box;text-align: center;}#sk-container-id-2 label.sk-toggleable__label-arrow:before {content: \"▸\";float: left;margin-right: 0.25em;color: #696969;}#sk-container-id-2 label.sk-toggleable__label-arrow:hover:before {color: black;}#sk-container-id-2 div.sk-estimator:hover label.sk-toggleable__label-arrow:before {color: black;}#sk-container-id-2 div.sk-toggleable__content {max-height: 0;max-width: 0;overflow: hidden;text-align: left;background-color: #f0f8ff;}#sk-container-id-2 div.sk-toggleable__content pre {margin: 0.2em;color: black;border-radius: 0.25em;background-color: #f0f8ff;}#sk-container-id-2 input.sk-toggleable__control:checked~div.sk-toggleable__content {max-height: 200px;max-width: 100%;overflow: auto;}#sk-container-id-2 input.sk-toggleable__control:checked~label.sk-toggleable__label-arrow:before {content: \"▾\";}#sk-container-id-2 div.sk-estimator input.sk-toggleable__control:checked~label.sk-toggleable__label {background-color: #d4ebff;}#sk-container-id-2 div.sk-label input.sk-toggleable__control:checked~label.sk-toggleable__label {background-color: #d4ebff;}#sk-container-id-2 input.sk-hidden--visually {border: 0;clip: rect(1px 1px 1px 1px);clip: rect(1px, 1px, 1px, 1px);height: 1px;margin: -1px;overflow: hidden;padding: 0;position: absolute;width: 1px;}#sk-container-id-2 div.sk-estimator {font-family: monospace;background-color: #f0f8ff;border: 1px dotted black;border-radius: 0.25em;box-sizing: border-box;margin-bottom: 0.5em;}#sk-container-id-2 div.sk-estimator:hover {background-color: #d4ebff;}#sk-container-id-2 div.sk-parallel-item::after {content: \"\";width: 100%;border-bottom: 1px solid gray;flex-grow: 1;}#sk-container-id-2 div.sk-label:hover label.sk-toggleable__label {background-color: #d4ebff;}#sk-container-id-2 div.sk-serial::before {content: \"\";position: absolute;border-left: 1px solid gray;box-sizing: border-box;top: 0;bottom: 0;left: 50%;z-index: 0;}#sk-container-id-2 div.sk-serial {display: flex;flex-direction: column;align-items: center;background-color: white;padding-right: 0.2em;padding-left: 0.2em;position: relative;}#sk-container-id-2 div.sk-item {position: relative;z-index: 1;}#sk-container-id-2 div.sk-parallel {display: flex;align-items: stretch;justify-content: center;background-color: white;position: relative;}#sk-container-id-2 div.sk-item::before, #sk-container-id-2 div.sk-parallel-item::before {content: \"\";position: absolute;border-left: 1px solid gray;box-sizing: border-box;top: 0;bottom: 0;left: 50%;z-index: -1;}#sk-container-id-2 div.sk-parallel-item {display: flex;flex-direction: column;z-index: 1;position: relative;background-color: white;}#sk-container-id-2 div.sk-parallel-item:first-child::after {align-self: flex-end;width: 50%;}#sk-container-id-2 div.sk-parallel-item:last-child::after {align-self: flex-start;width: 50%;}#sk-container-id-2 div.sk-parallel-item:only-child::after {width: 0;}#sk-container-id-2 div.sk-dashed-wrapped {border: 1px dashed gray;margin: 0 0.4em 0.5em 0.4em;box-sizing: border-box;padding-bottom: 0.4em;background-color: white;}#sk-container-id-2 div.sk-label label {font-family: monospace;font-weight: bold;display: inline-block;line-height: 1.2em;}#sk-container-id-2 div.sk-label-container {text-align: center;}#sk-container-id-2 div.sk-container {/* jupyter's `normalize.less` sets `[hidden] { display: none; }` but bootstrap.min.css set `[hidden] { display: none !important; }` so we also need the `!important` here to be able to override the default hidden behavior on the sphinx rendered scikit-learn.org. See: https://github.com/scikit-learn/scikit-learn/issues/21755 */display: inline-block !important;position: relative;}#sk-container-id-2 div.sk-text-repr-fallback {display: none;}</style><div id=\"sk-container-id-2\" class=\"sk-top-container\"><div class=\"sk-text-repr-fallback\"><pre>LogisticRegression()</pre><b>In a Jupyter environment, please rerun this cell to show the HTML representation or trust the notebook. <br />On GitHub, the HTML representation is unable to render, please try loading this page with nbviewer.org.</b></div><div class=\"sk-container\" hidden><div class=\"sk-item\"><div class=\"sk-estimator sk-toggleable\"><input class=\"sk-toggleable__control sk-hidden--visually\" id=\"sk-estimator-id-2\" type=\"checkbox\" checked><label for=\"sk-estimator-id-2\" class=\"sk-toggleable__label sk-toggleable__label-arrow\">LogisticRegression</label><div class=\"sk-toggleable__content\"><pre>LogisticRegression()</pre></div></div></div></div></div>"
            ]
          },
          "metadata": {},
          "execution_count": 64
        }
      ]
    },
    {
      "cell_type": "markdown",
      "source": [
        "evaulation of accuracy and other things\n",
        "\n",
        "1.   model will be asked to predict the values.\n",
        "\n",
        "\n"
      ],
      "metadata": {
        "id": "skOZ_T3OvlQf"
      }
    },
    {
      "cell_type": "code",
      "source": [
        "# accuracy score of training data.\n",
        "X_train_prediction = model.predict(X_train)\n",
        "training_data_accuracy = accuracy_score(X_train_prediction, Y_train)\n",
        "\n",
        "# original labels are stored in y labels.\n"
      ],
      "metadata": {
        "id": "9ZBJD8VdvdJN"
      },
      "execution_count": 65,
      "outputs": []
    },
    {
      "cell_type": "code",
      "source": [
        "print('Accuracy score of the training data: ', training_data_accuracy)"
      ],
      "metadata": {
        "colab": {
          "base_uri": "https://localhost:8080/"
        },
        "id": "e2BAB_T1xq1x",
        "outputId": "4e87c62a-1a9a-46c1-de17-997c6ba3ce67"
      },
      "execution_count": 68,
      "outputs": [
        {
          "output_type": "stream",
          "name": "stdout",
          "text": [
            "Accuracy score of the training data:  0.971875\n"
          ]
        }
      ]
    },
    {
      "cell_type": "code",
      "source": [
        "# accuracy score of trainnng data is not required much\n",
        "# but rather testing data accruacy score is significnatly important."
      ],
      "metadata": {
        "id": "oy2T0dm9x9JC"
      },
      "execution_count": 69,
      "outputs": []
    },
    {
      "cell_type": "code",
      "source": [
        "# accuracy of test data\n",
        "X_test_prediction = model.predict(X_test)\n",
        "test_data_accuracy = accuracy_score(X_test_prediction, Y_test)\n"
      ],
      "metadata": {
        "id": "JGzv5gV_yb7W"
      },
      "execution_count": 70,
      "outputs": []
    },
    {
      "cell_type": "code",
      "source": [
        "print('Accuracy score of the test data:', test_data_accuracy)"
      ],
      "metadata": {
        "colab": {
          "base_uri": "https://localhost:8080/"
        },
        "id": "8fL8jcT-13nV",
        "outputId": "61717fb6-3724-4ecc-caa1-50bab9d9b732"
      },
      "execution_count": 82,
      "outputs": [
        {
          "output_type": "stream",
          "name": "stdout",
          "text": [
            "Accuracy score of the test data: 0.9550480769230769\n"
          ]
        }
      ]
    },
    {
      "cell_type": "markdown",
      "source": [
        "#now it is the final step of our model to make the prediction.\n",
        "\n",
        " i am making such a code snippet that if i give any news article the model will predict whether the news is real or fake.\n",
        "---\n",
        "\n"
      ],
      "metadata": {
        "id": "gQOWI7E22HfV"
      }
    },
    {
      "cell_type": "code",
      "source": [
        "X_new = X_test[1]\n",
        "\n",
        "prediction = model.predict(X_new)\n",
        "print(prediction)\n",
        "\n",
        "if(prediction[0] == 0):\n",
        "  print('the news is real')\n",
        "else:\n",
        "    print('the news is false. you need to recheck.')"
      ],
      "metadata": {
        "colab": {
          "base_uri": "https://localhost:8080/"
        },
        "id": "Fhl4fgIb1_vA",
        "outputId": "043e4695-cb4d-43f8-fc0e-74abd4dc0739"
      },
      "execution_count": 75,
      "outputs": [
        {
          "output_type": "stream",
          "name": "stdout",
          "text": [
            "[0]\n",
            "the news is real\n"
          ]
        }
      ]
    },
    {
      "cell_type": "code",
      "source": [
        "print(Y_test[3])"
      ],
      "metadata": {
        "colab": {
          "base_uri": "https://localhost:8080/"
        },
        "id": "FGUyfKqk3Bvu",
        "outputId": "f2f69aff-124d-4ef9-ca6d-00ef1c0ea03d"
      },
      "execution_count": 76,
      "outputs": [
        {
          "output_type": "stream",
          "name": "stdout",
          "text": [
            "0\n"
          ]
        }
      ]
    },
    {
      "cell_type": "code",
      "source": [
        "print(Y_test[2])"
      ],
      "metadata": {
        "colab": {
          "base_uri": "https://localhost:8080/"
        },
        "id": "LNwjSPWU3j9O",
        "outputId": "68fd99ba-d5d5-41cf-cd45-4eb1d56c1239"
      },
      "execution_count": 80,
      "outputs": [
        {
          "output_type": "stream",
          "name": "stdout",
          "text": [
            "1\n"
          ]
        }
      ]
    },
    {
      "cell_type": "code",
      "source": [
        "print(X_test[3])"
      ],
      "metadata": {
        "colab": {
          "base_uri": "https://localhost:8080/"
        },
        "id": "VkAYMAk337dJ",
        "outputId": "6e639377-096c-4c9e-a03b-4abb6df49fea"
      },
      "execution_count": 81,
      "outputs": [
        {
          "output_type": "stream",
          "name": "stdout",
          "text": [
            "  (0, 24726)\t0.27331050125846784\n",
            "  (0, 20980)\t0.2627632853247146\n",
            "  (0, 20016)\t0.2866810550914723\n",
            "  (0, 18908)\t0.35634143571712384\n",
            "  (0, 18882)\t0.36486094504823846\n",
            "  (0, 12649)\t0.21203690446027454\n",
            "  (0, 11275)\t0.30155062535252236\n",
            "  (0, 8724)\t0.3229164766131825\n",
            "  (0, 6199)\t0.28793295414865233\n",
            "  (0, 4709)\t0.2529494316841221\n",
            "  (0, 4203)\t0.21995106361606084\n",
            "  (0, 4085)\t0.25398137289533046\n",
            "  (0, 3234)\t0.11843471534488659\n"
          ]
        }
      ]
    },
    {
      "cell_type": "code",
      "source": [],
      "metadata": {
        "id": "5HLDHbeB4DiL"
      },
      "execution_count": null,
      "outputs": []
    }
  ]
}